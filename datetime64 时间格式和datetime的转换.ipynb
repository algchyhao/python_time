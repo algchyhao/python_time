{
 "cells": [
  {
   "cell_type": "markdown",
   "metadata": {},
   "source": [
    "# Python中时间格式的转换和计算\n"
   ]
  },
  {
   "cell_type": "markdown",
   "metadata": {},
   "source": [
    "## Python 表示时间有以下格式：\n",
    "### 1. Pandas 的datetime64\n",
    "datetime64是Pandas从excel读取时间单元格默认的存储格式，这个格式不支持提取年月日，打印出来是这样的：\n",
    "\n",
    "    \n",
    "```[python]\n",
    ">>>dt64 = np.datetime64('1970-01-01T00:00:00Z')\n",
    ">>>print(dt64)\n",
    "1970-01-01T00:00:00.00\n",
    "```\n",
    "上面的例子中时间只给到秒的精度，实际上datetime64 最高精度存储到纳秒(ns), 如果是从excel读取出来的，则默认会补全到纳秒精度，打印会显示\n",
    "```\n",
    "1970-01-01T00:00:00.00.000000000\n",
    "```\n",
    "datetime64采用UTC时区\n",
    "### 2. Python 的datetime\n",
    "datetime就是python自带的时间存储格式,打印出来这样：\n",
    "```[python]\n",
    "1970-01-01 00:00:00\n",
    "```\n",
    "### 3.Timestamp 即时间戳\n",
    "Timestamp 存储的是时间T 和基准时间的间隔，以秒s为单位\n",
    "(注意如果是datetime64定义的timestamp,则以纳秒ns为单位)"
   ]
  },
  {
   "cell_type": "markdown",
   "metadata": {},
   "source": [
    "## 具体的例子：\n",
    "### datetime64 格式："
   ]
  },
  {
   "cell_type": "code",
   "execution_count": 1,
   "metadata": {},
   "outputs": [],
   "source": [
    "import numpy as np\n",
    "import datetime\n",
    "import time"
   ]
  },
  {
   "cell_type": "code",
   "execution_count": 2,
   "metadata": {},
   "outputs": [
    {
     "name": "stdout",
     "output_type": "stream",
     "text": [
      "2019-09-01T00:00:00.000000000\n",
      "<class 'numpy.datetime64'>\n"
     ]
    }
   ],
   "source": [
    "# 定义并查看dt64格式时间\n",
    "dt64 = np.datetime64('2019-09-01T00:00:00.000000000')\n",
    "print(dt64)\n",
    "print(type(dt64))"
   ]
  },
  {
   "cell_type": "code",
   "execution_count": 3,
   "metadata": {},
   "outputs": [
    {
     "name": "stdout",
     "output_type": "stream",
     "text": [
      "2019-09-01T00:00:00\n"
     ]
    }
   ],
   "source": [
    "# 注意， dt64格式最多精确到10^{-9}秒，也就是纳秒，在T00:00:00. 后面最多9个0，少于9位只是精度降低，多于9位则会溢出\n",
    "# 看下面的例子： \n",
    "# 省略秒后面的所有0， 时间精确到秒：\n",
    "dt64 = np.datetime64('2019-09-01T00:00:00')\n",
    "print(dt64)"
   ]
  },
  {
   "cell_type": "code",
   "execution_count": 4,
   "metadata": {},
   "outputs": [
    {
     "name": "stdout",
     "output_type": "stream",
     "text": [
      "1969-12-24T03:52:33.734688112640\n"
     ]
    }
   ],
   "source": [
    "# 位数过多的溢出, 则会得到不正确的结果\n",
    "dt64 = np.datetime64('2019-09-01T00:00:00.0000000000')\n",
    "print(dt64)"
   ]
  },
  {
   "cell_type": "markdown",
   "metadata": {},
   "source": [
    "### 时间戳"
   ]
  },
  {
   "cell_type": "code",
   "execution_count": 5,
   "metadata": {},
   "outputs": [
    {
     "name": "stdout",
     "output_type": "stream",
     "text": [
      "1571636931.391643\n",
      "<class 'float'>\n"
     ]
    }
   ],
   "source": [
    "# 查看时间戳，时间戳为与1970年01月01日0:00:00时刻的时间差，以秒为单位\n",
    "ts = time.time()\n",
    "print(ts)\n",
    "print(type(ts))"
   ]
  },
  {
   "cell_type": "markdown",
   "metadata": {},
   "source": [
    "### datetime 格式"
   ]
  },
  {
   "cell_type": "code",
   "execution_count": 6,
   "metadata": {},
   "outputs": [
    {
     "name": "stdout",
     "output_type": "stream",
     "text": [
      "time.struct_time(tm_year=2019, tm_mon=10, tm_mday=21, tm_hour=13, tm_min=48, tm_sec=51, tm_wday=0, tm_yday=294, tm_isdst=0)\n",
      "<class 'time.struct_time'>\n"
     ]
    }
   ],
   "source": [
    "# 查看dt格式时间， dt格式时间包括9份信息，本别是： year, mon, day, hour, min, sec, 星期(0-6, 0 代表周一)， 当前年的第多少天（1-366）， 是否夏令时 \n",
    "dt = time.localtime(time.time())\n",
    "print(dt)\n",
    "print(type(dt))"
   ]
  },
  {
   "cell_type": "code",
   "execution_count": 7,
   "metadata": {},
   "outputs": [
    {
     "name": "stdout",
     "output_type": "stream",
     "text": [
      "2019-10-21 13:48:51\n"
     ]
    }
   ],
   "source": [
    "# 转化为格式化时间并输出\n",
    "print(time.strftime('%Y-%m-%d %H:%M:%S', dt))"
   ]
  },
  {
   "cell_type": "code",
   "execution_count": 8,
   "metadata": {},
   "outputs": [
    {
     "name": "stdout",
     "output_type": "stream",
     "text": [
      "2019-10-21 13:48:51\n",
      "<class 'str'>\n"
     ]
    }
   ],
   "source": [
    "# 也可以直接定义格式化时间，存储为格式字符串“str”\n",
    "dt_str = time.strftime('%Y-%m-%d %H:%M:%S', dt)\n",
    "print(dt_str)\n",
    "print (type(dt_str))"
   ]
  },
  {
   "cell_type": "markdown",
   "metadata": {},
   "source": [
    "### 格式转换"
   ]
  },
  {
   "cell_type": "code",
   "execution_count": 9,
   "metadata": {},
   "outputs": [
    {
     "name": "stdout",
     "output_type": "stream",
     "text": [
      "2019-10-21T13:48:51\n",
      "<class 'numpy.datetime64'>\n"
     ]
    }
   ],
   "source": [
    "# 格式字符串（str）时间转换为 dt64\n",
    "dt64_c = np.datetime64(dt_str)\n",
    "print(dt64_c)\n",
    "print(type(dt64_c))"
   ]
  },
  {
   "cell_type": "code",
   "execution_count": 10,
   "metadata": {
    "scrolled": true
   },
   "outputs": [
    {
     "name": "stdout",
     "output_type": "stream",
     "text": [
      "2019-10-21 13:48:51\n",
      "<class 'datetime.datetime'>\n"
     ]
    }
   ],
   "source": [
    "# dt64 转换回格式字符串时间\n",
    "dt_c = dt64_c.astype(datetime.datetime)\n",
    "print(dt_c)\n",
    "print(type(dt_c))"
   ]
  },
  {
   "cell_type": "markdown",
   "metadata": {},
   "source": [
    "### 计算时间差（以天数差为例， 可以用来做倒计时器）："
   ]
  },
  {
   "cell_type": "code",
   "execution_count": 11,
   "metadata": {},
   "outputs": [
    {
     "name": "stdout",
     "output_type": "stream",
     "text": [
      "182736000 seconds\n",
      "<class 'numpy.timedelta64'>\n"
     ]
    }
   ],
   "source": [
    "# 计算天数差\n",
    "# 例如，我们要计算2020年8月5日距离现在的天数\n",
    "target_day_dt64 = np.datetime64('2025-08-05T00:00:00')\n",
    "now_date_str = time.strftime('%Y-%m-%d', time.localtime(time.time()))\n",
    "# 先计算时间戳差\n",
    "ts_delta = target_day_dt64 - np.datetime64(now_date_str)\n",
    "print(ts_delta)\n",
    "print(type(ts_delta))"
   ]
  },
  {
   "cell_type": "code",
   "execution_count": 12,
   "metadata": {},
   "outputs": [
    {
     "name": "stdout",
     "output_type": "stream",
     "text": [
      "目标日期距离今天 2115.0 天\n",
      "<class 'numpy.float64'>\n"
     ]
    }
   ],
   "source": [
    "# 再将时间戳差转换为天数差（除以np.timedelta64， 得到的结果是无单位的，对比下面cell的验证，直接除以一天的秒数，得到的还是带单位的数）\n",
    "day_delta = ts_delta/np.timedelta64(1,'D')\n",
    "print('目标日期距离今天 %s 天' % day_delta)\n",
    "print(type(day_delta))\n"
   ]
  },
  {
   "cell_type": "code",
   "execution_count": 13,
   "metadata": {},
   "outputs": [
    {
     "data": {
      "text/plain": [
       "numpy.timedelta64(2115,'s')"
      ]
     },
     "execution_count": 13,
     "metadata": {},
     "output_type": "execute_result"
    }
   ],
   "source": [
    "## 验证一下： （只供验证天数是否吻合，这里的单位还是“秒”，单位是不对的）\n",
    "ts_delta/60/60/24\n"
   ]
  }
 ],
 "metadata": {
  "kernelspec": {
   "display_name": "Python 3",
   "language": "python",
   "name": "python3"
  },
  "language_info": {
   "codemirror_mode": {
    "name": "ipython",
    "version": 3
   },
   "file_extension": ".py",
   "mimetype": "text/x-python",
   "name": "python",
   "nbconvert_exporter": "python",
   "pygments_lexer": "ipython3",
   "version": "3.7.4"
  }
 },
 "nbformat": 4,
 "nbformat_minor": 2
}
